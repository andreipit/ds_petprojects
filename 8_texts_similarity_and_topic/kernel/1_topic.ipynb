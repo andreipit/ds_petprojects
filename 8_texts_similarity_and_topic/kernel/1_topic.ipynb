{
 "cells": [
  {
   "cell_type": "code",
   "execution_count": 105,
   "metadata": {},
   "outputs": [
    {
     "data": {
      "text/plain": [
       "['plato', 'socrates', 'dialogues', 'forms', 'republic']"
      ]
     },
     "execution_count": 105,
     "metadata": {},
     "output_type": "execute_result"
    }
   ],
   "source": [
    "import pickle\n",
    "import gensim #anaconda prompt -> pip install -U gensim\n",
    "from sklearn.feature_extraction.text import CountVectorizer\n",
    "\n",
    "# text = 'This is a function to test document_path_similarity.'    # test example\n",
    "with open('plato.txt', 'r', encoding='utf8') as f: text = f.read()\n",
    "    \n",
    "def find_topics_of_string(s, topic_count):\n",
    "    data = [s]\n",
    "    vect = CountVectorizer(min_df=0, max_df=1, stop_words='english', token_pattern='(?u)\\\\b\\\\w\\\\w\\\\w+\\\\b')\n",
    "    X = vect.fit_transform(data)\n",
    "    corpus = gensim.matutils.Sparse2Corpus(X, documents_columns=False)\n",
    "    id_map = dict((v, k) for k, v in vect.vocabulary_.items())\n",
    "    ldamodel = gensim.models.ldamodel.LdaModel(corpus, id2word=id_map, num_topics=1, passes=25, random_state=34) # wait too long\n",
    "    return ldamodel.print_topics(num_topics=1, num_words=topic_count) #[0][1].split('+')[0].split('*')[1]\n",
    "    \n",
    "def clean_topics(top): #[(0,   '0.031*\"plato\" + 0.011*\"socrates\")] => ['plato', 'socrates']\n",
    "    return [x.split('*')[1].replace('\"', '').rstrip() for x in top[0][1].split('+')]    \n",
    "    \n",
    "clean_topics(find_topics_of_string(text, 5)) #['plato', 'socrates', 'dialogues', 'forms', 'republic']"
   ]
  }
 ],
 "metadata": {
  "kernelspec": {
   "display_name": "Python 3",
   "language": "python",
   "name": "python3"
  },
  "language_info": {
   "codemirror_mode": {
    "name": "ipython",
    "version": 3
   },
   "file_extension": ".py",
   "mimetype": "text/x-python",
   "name": "python",
   "nbconvert_exporter": "python",
   "pygments_lexer": "ipython3",
   "version": "3.6.3"
  }
 },
 "nbformat": 4,
 "nbformat_minor": 2
}
