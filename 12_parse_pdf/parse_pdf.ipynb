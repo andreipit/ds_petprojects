{
 "cells": [
  {
   "cell_type": "code",
   "execution_count": 29,
   "metadata": {},
   "outputs": [
    {
     "name": "stdout",
     "output_type": "stream",
     "text": [
      "163\n",
      "Address ESL and preteen voice talent information to the attention of \n",
      "in foreign-language voiceover/narrator talent. AAAVoiceCasting \n",
      "is a division of VoiceOvers Unlimited, which provides training and \n",
      "147 Columbus Ave.\n",
      "249 Smith St., Ste. 122\n",
      "32 Court St., Ste. 706\n",
      "Brooklyn, NY 11201 \n",
      "c/o Vineyard Theatre\n",
      "Kingdom - Safe - My Best Friend - Devil - The Switch - The Last \n",
      "(Casting Director), Stephanie Holbrook (Casting Director), Ryan \n",
      "333 W. 39th St., Ste. 800\n",
      "331 W. 57th St., #376\n",
      "independent films, and has over 25 feature film credits.  In addition, \n",
      "Is Crisis - Quarry - Banshee - The Divide - True Detective - Treme - \n"
     ]
    }
   ],
   "source": [
    "# importing all the required modules\n",
    "import PyPDF2\n",
    "\n",
    "# creating an object \n",
    "file = open('Call Sheet - Fall-Winter 2018 Edition[1].pdf', 'rb')\n",
    "\n",
    "# creating a pdf reader object\n",
    "fileReader = PyPDF2.PdfFileReader(file)\n",
    "\n",
    "# print the number of pages in pdf file\n",
    "#print(fileReader.numPages)\n",
    "\n",
    "\n",
    "page = fileReader.getPage(79)\n",
    "#print(page)\n",
    "#print('Page type: {}'.format(str(type(page))))\n",
    "text = page.extractText()\n",
    "\n",
    "\n",
    "#print(text[11])    \n",
    "text = text.split('\\n')\n",
    "print(len(text))\n",
    "\n",
    "\n",
    "i = 0    \n",
    "last_line = \"\"    \n",
    "for line in text:\n",
    "    if line == \"\":\n",
    "        print(last_line)\n",
    "    last_line = line\n",
    "    i += 1\n",
    "#print(i)    \n"
   ]
  }
 ],
 "metadata": {
  "kernelspec": {
   "display_name": "Python 3",
   "language": "python",
   "name": "python3"
  },
  "language_info": {
   "codemirror_mode": {
    "name": "ipython",
    "version": 3
   },
   "file_extension": ".py",
   "mimetype": "text/x-python",
   "name": "python",
   "nbconvert_exporter": "python",
   "pygments_lexer": "ipython3",
   "version": "3.6.3"
  }
 },
 "nbformat": 4,
 "nbformat_minor": 2
}
