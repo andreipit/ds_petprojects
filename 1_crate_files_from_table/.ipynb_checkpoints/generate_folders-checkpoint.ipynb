{
 "cells": [
  {
   "cell_type": "code",
   "execution_count": 17,
   "metadata": {
    "collapsed": true
   },
   "outputs": [],
   "source": [
    "import pandas as pd\n",
    "import re\n",
    "import os\n",
    "ROOT_FOLDER = 'folders'       \n",
    "FOLDER_LIST = 'folders_list.txt' # first row must be \"name\"      \n",
    "\n",
    "def clean_symbols(df, column):\n",
    "    df[column] = df[column].str.replace(' ', '_')\n",
    "    df[column] = df[column].str.replace('\\\\', '_ibackslash_')\n",
    "    df[column] = df[column].str.replace('/', '_islash_')\n",
    "    df[column] = df[column].str.replace(':', '_icolon')\n",
    "    df[column] = df[column].str.replace('*', '_istar_')\n",
    "    df[column] = df[column].str.replace('?', '_iquest')\n",
    "    df[column] = df[column].str.replace('\"', '_iquotes_')\n",
    "    df[column] = df[column].str.replace('<', '_iless_')\n",
    "    df[column] = df[column].str.replace('>', '_imore_')\n",
    "    df[column] = df[column].str.replace('|', '_ior_')\n",
    "    return df\n",
    "df = pd.read_csv(FOLDER_LIST, skiprows=0, delimiter=\"\\t\")\n",
    "df = clean_symbols(df, 'name')\n",
    "if not os.path.exists(ROOT_FOLDER): os.makedirs(ROOT_FOLDER)\n",
    "for i in range(len(df)):\n",
    "    num = i\n",
    "    if num < 10: num = str(0) + str(i)\n",
    "    new_name = ROOT_FOLDER + '/' + (str(num)) + '_' + df.iloc[i]['name']\n",
    "    if not os.path.exists(new_name): os.makedirs(new_name)\n"
   ]
  }
 ],
 "metadata": {
  "kernelspec": {
   "display_name": "Python 3",
   "language": "python",
   "name": "python3"
  },
  "language_info": {
   "codemirror_mode": {
    "name": "ipython",
    "version": 3
   },
   "file_extension": ".py",
   "mimetype": "text/x-python",
   "name": "python",
   "nbconvert_exporter": "python",
   "pygments_lexer": "ipython3",
   "version": "3.6.3"
  }
 },
 "nbformat": 4,
 "nbformat_minor": 2
}
