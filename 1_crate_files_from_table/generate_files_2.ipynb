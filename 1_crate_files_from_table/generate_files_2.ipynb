{
 "cells": [
  {
   "cell_type": "code",
   "execution_count": 11,
   "metadata": {},
   "outputs": [
    {
     "name": "stdout",
     "output_type": "stream",
     "text": [
      "01_Microsoft_Windows\n",
      "01_Microsoft_Windows\n",
      "02_RPM-based_Systems_(Redhat_islash_CentOS_islash_Fedora)\n",
      "03_Novell_NetWare\n",
      "04_EBCDIC_Port\n"
     ]
    },
    {
     "data": {
      "text/html": [
       "<div>\n",
       "<style>\n",
       "    .dataframe thead tr:only-child th {\n",
       "        text-align: right;\n",
       "    }\n",
       "\n",
       "    .dataframe thead th {\n",
       "        text-align: left;\n",
       "    }\n",
       "\n",
       "    .dataframe tbody tr th {\n",
       "        vertical-align: top;\n",
       "    }\n",
       "</style>\n",
       "<table border=\"1\" class=\"dataframe\">\n",
       "  <thead>\n",
       "    <tr style=\"text-align: right;\">\n",
       "      <th></th>\n",
       "      <th>SES #</th>\n",
       "      <th>TOPICS</th>\n",
       "    </tr>\n",
       "  </thead>\n",
       "  <tbody>\n",
       "    <tr>\n",
       "      <th>0</th>\n",
       "      <td>01</td>\n",
       "      <td>Microsoft_Windows</td>\n",
       "    </tr>\n",
       "    <tr>\n",
       "      <th>1</th>\n",
       "      <td>02</td>\n",
       "      <td>RPM-based_Systems_(Redhat_islash_CentOS_islash...</td>\n",
       "    </tr>\n",
       "    <tr>\n",
       "      <th>2</th>\n",
       "      <td>03</td>\n",
       "      <td>Novell_NetWare</td>\n",
       "    </tr>\n",
       "    <tr>\n",
       "      <th>3</th>\n",
       "      <td>04</td>\n",
       "      <td>EBCDIC_Port</td>\n",
       "    </tr>\n",
       "  </tbody>\n",
       "</table>\n",
       "</div>"
      ],
      "text/plain": [
       "  SES #                                             TOPICS\n",
       "0    01                                  Microsoft_Windows\n",
       "1    02  RPM-based_Systems_(Redhat_islash_CentOS_islash...\n",
       "2    03                                     Novell_NetWare\n",
       "3    04                                        EBCDIC_Port"
      ]
     },
     "execution_count": 11,
     "metadata": {},
     "output_type": "execute_result"
    }
   ],
   "source": [
    "import pandas as pd\n",
    "import re\n",
    "\n",
    "def save2txt(row):\n",
    "    if row[0]<10: row[0] = \"0\" + str(row[0])\n",
    "    file_name = str(row[0]).strip() + \"_\" + row[1].strip()\n",
    "    print(file_name)\n",
    "    file = open(file_name+'.py', 'w')\n",
    "    line = \"0) summary-------------------------------------------------------------------------------\"\n",
    "    file.write(file_name+'.txt' + '\\n' + '\\n' + line)\n",
    "    file.close()\n",
    "    return row\n",
    "\n",
    "df = pd.read_csv('calendar2.txt', skiprows=0, delimiter=\"\\t\")\n",
    "\n",
    "df['TOPICS'] = df['TOPICS'].str.replace(' ', '_')\n",
    "df['TOPICS'] = df['TOPICS'].str.replace('\\\\', 'ibackslash')\n",
    "df['TOPICS'] = df['TOPICS'].str.replace('/', 'islash')\n",
    "df['TOPICS'] = df['TOPICS'].str.replace(':', 'icolon')\n",
    "df['TOPICS'] = df['TOPICS'].str.replace('*', 'istar')\n",
    "df['TOPICS'] = df['TOPICS'].str.replace('?', 'iquest')\n",
    "df['TOPICS'] = df['TOPICS'].str.replace('\"', 'iquotes')\n",
    "df['TOPICS'] = df['TOPICS'].str.replace('<', 'iless')\n",
    "df['TOPICS'] = df['TOPICS'].str.replace('>', 'imore')\n",
    "df['TOPICS'] = df['TOPICS'].str.replace('|', 'ior')\n",
    "\n",
    "df.apply(save2txt, axis=1)"
   ]
  }
 ],
 "metadata": {
  "kernelspec": {
   "display_name": "Python 3",
   "language": "python",
   "name": "python3"
  },
  "language_info": {
   "codemirror_mode": {
    "name": "ipython",
    "version": 3
   },
   "file_extension": ".py",
   "mimetype": "text/x-python",
   "name": "python",
   "nbconvert_exporter": "python",
   "pygments_lexer": "ipython3",
   "version": "3.6.3"
  }
 },
 "nbformat": 4,
 "nbformat_minor": 2
}
